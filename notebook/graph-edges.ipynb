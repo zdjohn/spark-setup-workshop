{
 "cells": [
  {
   "cell_type": "code",
   "execution_count": 1,
   "metadata": {},
   "outputs": [],
   "source": [
    "import sys; sys.path.insert(0, '..')\n",
    "import findspark; findspark.init()"
   ]
  },
  {
   "cell_type": "code",
   "execution_count": 2,
   "metadata": {},
   "outputs": [],
   "source": [
    "import json\n",
    "import configparser\n",
    "from os import environ, listdir, path, getcwd\n",
    "from pathlib import Path\n",
    "\n",
    "from pyspark import SparkConf\n",
    "from pyspark import SparkFiles\n",
    "from pyspark.sql import SparkSession\n",
    "\n",
    "from src.commons import utils\n",
    "from src.user_item_graph import etl, job, udf"
   ]
  },
  {
   "cell_type": "code",
   "execution_count": 3,
   "metadata": {},
   "outputs": [
    {
     "name": "stdout",
     "output_type": "stream",
     "text": [
      "['/opt/spark/python', '/opt/spark/python/lib/py4j-0.10.9-src.zip', '..', '/home/zdjohn/dev/spark-setup-workshop/notebook', '/usr/lib/python38.zip', '/usr/lib/python3.8', '/usr/lib/python3.8/lib-dynload', '', '/home/zdjohn/dev/spark-setup-workshop/.tox/dev/lib/python3.8/site-packages', '/home/zdjohn/dev/spark-setup-workshop/.tox/dev/lib/python3.8/site-packages/IPython/extensions', '/home/zdjohn/.ipython']\n"
     ]
    }
   ],
   "source": [
    "print(sys.path)"
   ]
  },
  {
   "cell_type": "code",
   "execution_count": 4,
   "metadata": {},
   "outputs": [],
   "source": [
    "environ['PYSPARK_SUBMIT_ARGS'] = \"--packages=com.amazonaws:aws-java-sdk:1.11.900,org.apache.hadoop:hadoop-aws:3.2.0 pyspark-shell\"\n",
    "environ['DEBUG'] = \"1\"\n",
    "environ['PYSPARK_PYTHON']=f'{Path(getcwd()).parent}/.tox/dev/bin/python'"
   ]
  },
  {
   "cell_type": "code",
   "execution_count": 5,
   "metadata": {},
   "outputs": [],
   "source": [
    "session, logger= utils.start_spark()"
   ]
  },
  {
   "cell_type": "code",
   "execution_count": 6,
   "metadata": {},
   "outputs": [],
   "source": [
    "source_domain = 'video'\n",
    "target_domain = 'music'\n",
    "source_reviews=f's3a://pyspark3-sample/{source_domain}{target_domain}_reviews'\n",
    "target_reviews=f's3a://pyspark3-sample/{target_domain}{source_domain}_reviews'\n",
    "customers_indexed_ids = f's3a://pyspark3-sample/{source_domain}_{target_domain}_customer_ids'\n",
    "source_product_indexed_ids = f's3a://pyspark3-sample/{source_domain}{target_domain}_product_ids'\n",
    "target_product_indexed_ids = f's3a://pyspark3-sample/{target_domain}{source_domain}_product_ids'"
   ]
  },
  {
   "cell_type": "code",
   "execution_count": 7,
   "metadata": {},
   "outputs": [],
   "source": [
    "video_reviews_df = utils.extract_parquet_data(session, source_reviews)\n",
    "music_reviews_df = utils.extract_parquet_data(session, target_reviews)\n",
    "customers_indexed_ids_df = utils.extract_parquet_data(session, customers_indexed_ids)\n",
    "video_product_indexed_ids_df = utils.extract_parquet_data(session, source_product_indexed_ids)\n",
    "music_product_indexed_ids_df = utils.extract_parquet_data(session, target_product_indexed_ids)"
   ]
  },
  {
   "cell_type": "code",
   "execution_count": 8,
   "metadata": {},
   "outputs": [
    {
     "name": "stdout",
     "output_type": "stream",
     "text": [
      "root\n",
      " |-- product_id_index: integer (nullable = true)\n",
      " |-- product_id: string (nullable = true)\n",
      "\n"
     ]
    }
   ],
   "source": [
    "video_product_indexed_ids_df.printSchema()"
   ]
  },
  {
   "cell_type": "code",
   "execution_count": 9,
   "metadata": {},
   "outputs": [
    {
     "name": "stdout",
     "output_type": "stream",
     "text": [
      "root\n",
      " |-- customer_id: string (nullable = true)\n",
      " |-- products: array (nullable = true)\n",
      " |    |-- element: integer (containsNull = false)\n",
      "\n"
     ]
    }
   ],
   "source": [
    "video_customer_products = etl.to_products_grouped_by_customer(video_reviews_df, video_product_indexed_ids_df)\n",
    "video_customer_products.printSchema()"
   ]
  },
  {
   "cell_type": "code",
   "execution_count": 10,
   "metadata": {},
   "outputs": [
    {
     "name": "stdout",
     "output_type": "stream",
     "text": [
      "root\n",
      " |-- customer_id: string (nullable = true)\n",
      " |-- products_edges: array (nullable = true)\n",
      " |    |-- element: string (containsNull = true)\n",
      "\n"
     ]
    }
   ],
   "source": [
    "video_edges_by_customer = video_customer_products.select('customer_id', udf.udf_combination('products').alias(\"products_edges\"))\n",
    "video_edges_by_customer.printSchema()"
   ]
  },
  {
   "cell_type": "code",
   "execution_count": 18,
   "metadata": {
    "scrolled": true
   },
   "outputs": [
    {
     "name": "stdout",
     "output_type": "stream",
     "text": [
      "+-----------+--------------------+\n",
      "|customer_id|      products_edges|\n",
      "+-----------+--------------------+\n",
      "|   10008274|[8520-12432, 8520...|\n",
      "|   10010722|[16327-36992, 163...|\n",
      "|   10013137|       [19298-16311]|\n",
      "|   10014336|[23285-37745, 232...|\n",
      "|   10014651|[27452-26481, 274...|\n",
      "|   10019143|[33415-27619, 334...|\n",
      "|   10024365|[28531-36241, 285...|\n",
      "|   10031733|[34882-8335, 3488...|\n",
      "|   10037241|[28531-11141, 285...|\n",
      "|   10043494|       [38726-39566]|\n",
      "|   10057510|[31666-8771, 3166...|\n",
      "|   10058862|[4970-25613, 4970...|\n",
      "|   10059990|[33416-28873, 334...|\n",
      "|   10066276|[5329-17764, 5329...|\n",
      "|   10068905|[15659-41110, 156...|\n",
      "|   10069493|[8559-23372, 8559...|\n",
      "|   10070500|[25445-16270, 254...|\n",
      "|   10072546|[31880-7690, 3188...|\n",
      "|   10079769|[17779-31282, 177...|\n",
      "|    1008035|       [34379-39922]|\n",
      "|   10083340|[35735-36168, 357...|\n",
      "|   10084386|[12403-12666, 124...|\n",
      "|   10087837|[18737-12956, 187...|\n",
      "|   10090130|[25106-12453, 251...|\n",
      "|   10096787|[16407-34523, 164...|\n",
      "|   10098024|[5060-31940, 5060...|\n",
      "|   10100537|        [16269-3017]|\n",
      "|    1010572|[15231-20468, 152...|\n",
      "|   10108655|       [16498-34695]|\n",
      "|   10116316|[35681-22034, 356...|\n",
      "|   10119277|[35873-37758, 358...|\n",
      "|   10121798|        [4122-13000]|\n",
      "|   10129584|       [36320-35033]|\n",
      "|   10130618|[7352-39971, 7352...|\n",
      "|   10131597|[20076-37481, 200...|\n",
      "|   10135500|[35419-37594, 354...|\n",
      "|   10136961|[30468-33665, 304...|\n",
      "|   10141101|[24451-32346, 244...|\n",
      "|   10142351|[15216-10523, 152...|\n",
      "|   10147978|[33408-40897, 334...|\n",
      "|   10148622|[32224-38519, 322...|\n",
      "|   10152498|[13206-23629, 132...|\n",
      "|   10163009|[31455-31219, 314...|\n",
      "|   10163148|[35723-3326, 3572...|\n",
      "|   10167039|[26600-23022, 266...|\n",
      "|   10172893|[14876-14873, 148...|\n",
      "|   10176068|[32744-37477, 327...|\n",
      "|   10190840|[27721-27772, 277...|\n",
      "|   10198595|[38541-36585, 385...|\n",
      "|   10201072|[33970-33872, 339...|\n",
      "|   10207851|[38439-41002, 384...|\n",
      "|   10210090|       [25347-20818]|\n",
      "|   10214187|[2952-25155, 2952...|\n",
      "|   10217709|[40729-1304, 4072...|\n",
      "|   10226432|[19212-23082, 192...|\n",
      "|   10230061|[29248-3973, 2924...|\n",
      "|   10232647|[22400-30479, 224...|\n",
      "|   10235502|        [8563-24874]|\n",
      "|   10236202|[32625-15773, 326...|\n",
      "|   10238077|[41173-36915, 411...|\n",
      "|   10238458|[23234-28555, 232...|\n",
      "|   10238610|[37408-25885, 374...|\n",
      "|   10250957|       [11490-20083]|\n",
      "|   10251248|        [36643-1076]|\n",
      "|   10251355|[15205-9977, 1520...|\n",
      "|   10252290|[34803-38767, 348...|\n",
      "|   10252788|[35-7769, 35-1531...|\n",
      "|   10252964|       [33415-30041]|\n",
      "|   10254927|[36940-37299, 369...|\n",
      "|   10256200|[37234-9570, 3723...|\n",
      "|   10274361|[6113-36435, 6113...|\n",
      "|   10289139|[17184-39325, 171...|\n",
      "|   10289140|[16254-28886, 162...|\n",
      "|   10298208|[38943-39353, 389...|\n",
      "|   10301923|[40493-16897, 404...|\n",
      "|   10302841|[31235-773, 31235...|\n",
      "|   10303671|[13365-33720, 133...|\n",
      "|   10311750|[40859-19898, 408...|\n",
      "|   10316882|[14857-36046, 148...|\n",
      "|   10328795|       [32157-16310]|\n",
      "|   10330157|[16490-17899, 164...|\n",
      "|   10331226|[627-36459, 627-1...|\n",
      "|   10332210|       [22370-35734]|\n",
      "|   10342345|[31321-22346, 313...|\n",
      "|   10343186|[34882-17764, 348...|\n",
      "|   10352526|       [15572-26049]|\n",
      "|   10352654|[23772-17660, 237...|\n",
      "|   10354144|[28248-16382, 282...|\n",
      "|   10355742|[4211-2698, 4211-...|\n",
      "|   10356437|[9014-17475, 9014...|\n",
      "|   10364357|[2207-17068, 2207...|\n",
      "|   10366264|[12567-5381, 1256...|\n",
      "|   10371833|[39208-37881, 392...|\n",
      "|   10371994|[7773-25499, 7773...|\n",
      "|   10372699|[1148-16676, 1148...|\n",
      "|   10378509|[38493-2224, 3849...|\n",
      "|   10378764|[19598-2564, 1959...|\n",
      "|   10379107|[7351-1919, 7351-...|\n",
      "|   10379591|[35884-9344, 3588...|\n",
      "|   10380180|       [38708-16177]|\n",
      "+-----------+--------------------+\n",
      "only showing top 100 rows\n",
      "\n",
      "CPU times: user 33.6 ms, sys: 16.5 ms, total: 50.2 ms\n",
      "Wall time: 5min 16s\n"
     ]
    }
   ],
   "source": [
    "%%time\n",
    "video_edges_by_customer.show(100)"
   ]
  },
  {
   "cell_type": "code",
   "execution_count": 11,
   "metadata": {},
   "outputs": [
    {
     "name": "stdout",
     "output_type": "stream",
     "text": [
      "root\n",
      " |-- customer_id: string (nullable = true)\n",
      " |-- products_edges: array (nullable = true)\n",
      " |    |-- element: string (containsNull = true)\n",
      "\n"
     ]
    }
   ],
   "source": [
    "video_edges_by_customer_p = video_customer_products.select('customer_id', udf.pandas_udf_combination('products').alias(\"products_edges\"))\n",
    "video_edges_by_customer_p.printSchema()"
   ]
  },
  {
   "cell_type": "code",
   "execution_count": 19,
   "metadata": {},
   "outputs": [
    {
     "name": "stdout",
     "output_type": "stream",
     "text": [
      "+-----------+--------------------+\n",
      "|customer_id|      products_edges|\n",
      "+-----------+--------------------+\n",
      "|   10008274|[8520-12432, 8520...|\n",
      "|   10010722|[16327-36992, 163...|\n",
      "|   10013137|       [19298-16311]|\n",
      "|   10014336|[23285-37745, 232...|\n",
      "|   10014651|[27452-26481, 274...|\n",
      "|   10019143|[33415-27619, 334...|\n",
      "|   10024365|[28531-36241, 285...|\n",
      "|   10031733|[34882-8335, 3488...|\n",
      "|   10037241|[28531-11141, 285...|\n",
      "|   10043494|       [38726-39566]|\n",
      "|   10057510|[31666-8771, 3166...|\n",
      "|   10058862|[4970-25613, 4970...|\n",
      "|   10059990|[33416-28873, 334...|\n",
      "|   10066276|[5329-17764, 5329...|\n",
      "|   10068905|[15659-41110, 156...|\n",
      "|   10069493|[8559-23372, 8559...|\n",
      "|   10070500|[25445-16270, 254...|\n",
      "|   10072546|[31880-7690, 3188...|\n",
      "|   10079769|[17779-31282, 177...|\n",
      "|    1008035|       [34379-39922]|\n",
      "|   10083340|[35735-36168, 357...|\n",
      "|   10084386|[12403-12666, 124...|\n",
      "|   10087837|[18737-12956, 187...|\n",
      "|   10090130|[25106-12453, 251...|\n",
      "|   10096787|[16407-34523, 164...|\n",
      "|   10098024|[5060-31940, 5060...|\n",
      "|   10100537|        [16269-3017]|\n",
      "|    1010572|[15231-20468, 152...|\n",
      "|   10108655|       [16498-34695]|\n",
      "|   10116316|[35681-22034, 356...|\n",
      "|   10119277|[35873-37758, 358...|\n",
      "|   10121798|        [4122-13000]|\n",
      "|   10129584|       [36320-35033]|\n",
      "|   10130618|[7352-39971, 7352...|\n",
      "|   10131597|[20076-37481, 200...|\n",
      "|   10135500|[35419-37594, 354...|\n",
      "|   10136961|[30468-33665, 304...|\n",
      "|   10141101|[24451-32346, 244...|\n",
      "|   10142351|[15216-10523, 152...|\n",
      "|   10147978|[33408-40897, 334...|\n",
      "|   10148622|[32224-38519, 322...|\n",
      "|   10152498|[13206-23629, 132...|\n",
      "|   10163009|[31455-31219, 314...|\n",
      "|   10163148|[35723-3326, 3572...|\n",
      "|   10167039|[26600-23022, 266...|\n",
      "|   10172893|[14876-14873, 148...|\n",
      "|   10176068|[32744-37477, 327...|\n",
      "|   10190840|[27721-27772, 277...|\n",
      "|   10198595|[38541-36585, 385...|\n",
      "|   10201072|[33970-33872, 339...|\n",
      "|   10207851|[38439-41002, 384...|\n",
      "|   10210090|       [25347-20818]|\n",
      "|   10214187|[2952-25155, 2952...|\n",
      "|   10217709|[40729-1304, 4072...|\n",
      "|   10226432|[19212-23082, 192...|\n",
      "|   10230061|[29248-3973, 2924...|\n",
      "|   10232647|[22400-30479, 224...|\n",
      "|   10235502|        [8563-24874]|\n",
      "|   10236202|[32625-15773, 326...|\n",
      "|   10238077|[41173-36915, 411...|\n",
      "|   10238458|[23234-28555, 232...|\n",
      "|   10238610|[37408-25885, 374...|\n",
      "|   10250957|       [11490-20083]|\n",
      "|   10251248|        [36643-1076]|\n",
      "|   10251355|[15205-9977, 1520...|\n",
      "|   10252290|[34803-38767, 348...|\n",
      "|   10252788|[35-7769, 35-1531...|\n",
      "|   10252964|       [33415-30041]|\n",
      "|   10254927|[36940-37299, 369...|\n",
      "|   10256200|[37234-9570, 3723...|\n",
      "|   10274361|[6113-36435, 6113...|\n",
      "|   10289139|[17184-39325, 171...|\n",
      "|   10289140|[16254-28886, 162...|\n",
      "|   10298208|[38943-39353, 389...|\n",
      "|   10301923|[40493-16897, 404...|\n",
      "|   10302841|[31235-773, 31235...|\n",
      "|   10303671|[13365-33720, 133...|\n",
      "|   10311750|[40859-19898, 408...|\n",
      "|   10316882|[14857-36046, 148...|\n",
      "|   10328795|       [32157-16310]|\n",
      "|   10330157|[16490-17899, 164...|\n",
      "|   10331226|[627-36459, 627-1...|\n",
      "|   10332210|       [22370-35734]|\n",
      "|   10342345|[31321-22346, 313...|\n",
      "|   10343186|[34882-17764, 348...|\n",
      "|   10352526|       [15572-26049]|\n",
      "|   10352654|[23772-17660, 237...|\n",
      "|   10354144|[28248-16382, 282...|\n",
      "|   10355742|[4211-2698, 4211-...|\n",
      "|   10356437|[9014-17475, 9014...|\n",
      "|   10364357|[2207-17068, 2207...|\n",
      "|   10366264|[12567-5381, 1256...|\n",
      "|   10371833|[39208-37881, 392...|\n",
      "|   10371994|[7773-25499, 7773...|\n",
      "|   10372699|[1148-16676, 1148...|\n",
      "|   10378509|[38493-2224, 3849...|\n",
      "|   10378764|[19598-2564, 1959...|\n",
      "|   10379107|[7351-1919, 7351-...|\n",
      "|   10379591|[35884-9344, 3588...|\n",
      "|   10380180|       [38708-16177]|\n",
      "+-----------+--------------------+\n",
      "only showing top 100 rows\n",
      "\n",
      "CPU times: user 31 ms, sys: 5.92 ms, total: 36.9 ms\n",
      "Wall time: 3min 59s\n"
     ]
    }
   ],
   "source": [
    "%%time\n",
    "video_edges_by_customer_p.show(100)"
   ]
  },
  {
   "cell_type": "code",
   "execution_count": null,
   "metadata": {},
   "outputs": [],
   "source": []
  }
 ],
 "metadata": {
  "kernelspec": {
   "display_name": "pyspark-sample",
   "language": "python",
   "name": "pyspark-sample"
  },
  "language_info": {
   "codemirror_mode": {
    "name": "ipython",
    "version": 3
   },
   "file_extension": ".py",
   "mimetype": "text/x-python",
   "name": "python",
   "nbconvert_exporter": "python",
   "pygments_lexer": "ipython3",
   "version": "3.8.5"
  }
 },
 "nbformat": 4,
 "nbformat_minor": 4
}
