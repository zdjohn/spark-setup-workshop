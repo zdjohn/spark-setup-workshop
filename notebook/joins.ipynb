{
 "cells": [
  {
   "cell_type": "code",
   "execution_count": null,
   "metadata": {},
   "outputs": [],
   "source": [
    "import sys; sys.path.insert(0, '..')\n",
    "import findspark; findspark.init()"
   ]
  },
  {
   "cell_type": "code",
   "execution_count": null,
   "metadata": {},
   "outputs": [],
   "source": [
    "from etl_project.commons import utils\n",
    "from pyspark.sql import SparkSession\n",
    "import pyspark.sql.functions as F\n",
    "from pyspark.sql.types import DateType\n",
    "from pyspark.sql.window import Window\n",
    "import random\n",
    "from os import environ"
   ]
  },
  {
   "cell_type": "code",
   "execution_count": null,
   "metadata": {},
   "outputs": [],
   "source": [
    "environ['DEBUG'] = \"1\"\n",
    "spark,log = utils.start_spark()"
   ]
  },
  {
   "cell_type": "code",
   "execution_count": null,
   "metadata": {},
   "outputs": [],
   "source": [
    "dfEmp = spark.createDataFrame([\n",
    "    ['Tony',\"HR\",8000],\n",
    "    ['Mona',None,10000],\n",
    "    ['Jill','Sls',5000],\n",
    "    ['Tim','Admin',7000]],('name','dept','salary'))\n",
    "\n",
    "dfDept = spark.createDataFrame([\n",
    "    ['Sls','Sales'],\n",
    "    ['Admin','Administration'],\n",
    "    ['IT','Information Tech']],('dept','dept_name'))"
   ]
  },
  {
   "cell_type": "code",
   "execution_count": null,
   "metadata": {},
   "outputs": [],
   "source": [
    "dfEmp.join(dfDept, dfEmp.dept==dfDept.dept, 'inner').show()"
   ]
  },
  {
   "cell_type": "code",
   "execution_count": null,
   "metadata": {},
   "outputs": [],
   "source": [
    "dfEmp.join(dfDept, dfEmp.dept==dfDept.dept, 'anti').show()"
   ]
  },
  {
   "cell_type": "code",
   "execution_count": null,
   "metadata": {},
   "outputs": [],
   "source": [
    "df_cross_join = dfEmp.crossJoin(\n",
    "    dfEmp.select(\n",
    "        F.col('name').alias('partner_name')\n",
    "        ,F.col('dept').alias('partner_dept')\n",
    "    )).where('name != partner_name').select('name','partner_name','dept','partner_dept')\n",
    "df_cross_join.show()"
   ]
  },
  {
   "cell_type": "code",
   "execution_count": null,
   "metadata": {},
   "outputs": [],
   "source": [
    "spark.stop()"
   ]
  },
  {
   "cell_type": "code",
   "execution_count": null,
   "metadata": {},
   "outputs": [],
   "source": []
  }
 ],
 "metadata": {
  "kernelspec": {
   "display_name": "pyspark-sample",
   "language": "python",
   "name": "pyspark-sample"
  },
  "language_info": {
   "codemirror_mode": {
    "name": "ipython",
    "version": 3
   },
   "file_extension": ".py",
   "mimetype": "text/x-python",
   "name": "python",
   "nbconvert_exporter": "python",
   "pygments_lexer": "ipython3",
   "version": "3.8.5"
  }
 },
 "nbformat": 4,
 "nbformat_minor": 4
}
