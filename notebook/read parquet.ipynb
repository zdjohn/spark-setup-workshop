{
 "cells": [
  {
   "cell_type": "code",
   "execution_count": 1,
   "metadata": {},
   "outputs": [],
   "source": [
    "import sys; sys.path.insert(0, '..')\n",
    "import findspark; findspark.init()\n",
    "from etl_project.commons import utils\n",
    "from pyspark.sql import SparkSession\n",
    "import pyspark.sql.functions as F\n",
    "from pyspark.sql.types import DateType\n",
    "from pyspark.sql.window import Window\n",
    "import random\n",
    "from os import environ"
   ]
  },
  {
   "cell_type": "code",
   "execution_count": 2,
   "metadata": {},
   "outputs": [],
   "source": [
    "environ['DEBUG'] = \"1\"\n",
    "spark,log = utils.start_spark()"
   ]
  },
  {
   "cell_type": "code",
   "execution_count": 3,
   "metadata": {},
   "outputs": [],
   "source": [
    "df = spark.read.parquet('../data/rdn.enriched.referral+0+0000000000.snappy.parquet')"
   ]
  },
  {
   "cell_type": "code",
   "execution_count": 5,
   "metadata": {},
   "outputs": [
    {
     "name": "stdout",
     "output_type": "stream",
     "text": [
      "root\n",
      " |-- eventtype: string (nullable = true)\n",
      " |-- eventguid: string (nullable = true)\n",
      " |-- eventtime: string (nullable = true)\n",
      " |-- instanceguid: string (nullable = true)\n",
      " |-- sessionid: string (nullable = true)\n",
      " |-- advertiserId: string (nullable = true)\n",
      " |-- partnerid: string (nullable = true)\n",
      " |-- partnercountryid: string (nullable = true)\n",
      " |-- campaignid: string (nullable = true)\n",
      " |-- campaignName: string (nullable = true)\n",
      " |-- campaignType: string (nullable = true)\n",
      " |-- campaigncountryid: string (nullable = true)\n",
      " |-- campaigncurrencyid: string (nullable = true)\n",
      " |-- audienceid: string (nullable = true)\n",
      " |-- referralCreativeId: string (nullable = true)\n",
      " |-- position: string (nullable = true)\n",
      " |-- rank: long (nullable = true)\n",
      " |-- responseId: string (nullable = true)\n",
      " |-- referraltype: string (nullable = true)\n",
      " |-- device: string (nullable = true)\n",
      " |-- age: string (nullable = true)\n",
      " |-- gender: string (nullable = true)\n",
      " |-- roktplatform: string (nullable = true)\n",
      " |-- clienttype: string (nullable = true)\n",
      " |-- bidprice: double (nullable = true)\n",
      " |-- placementid: string (nullable = true)\n",
      " |-- transactionid: string (nullable = true)\n",
      " |-- pageid: string (nullable = true)\n",
      " |-- pagetype: string (nullable = true)\n",
      " |-- istransactional: boolean (nullable = true)\n",
      " |-- cartitemid: string (nullable = true)\n",
      "\n"
     ]
    }
   ],
   "source": [
    "df.printSchema()"
   ]
  },
  {
   "cell_type": "code",
   "execution_count": 6,
   "metadata": {},
   "outputs": [],
   "source": [
    "df_2 = spark.read.parquet('../data/rdn.enriched.verifiedReferral+0+0000061798.snappy.parquet')"
   ]
  },
  {
   "cell_type": "code",
   "execution_count": 7,
   "metadata": {},
   "outputs": [
    {
     "name": "stdout",
     "output_type": "stream",
     "text": [
      "root\n",
      " |-- eventtype: string (nullable = true)\n",
      " |-- eventguid: string (nullable = true)\n",
      " |-- eventtime: string (nullable = true)\n",
      " |-- instanceguid: string (nullable = true)\n",
      " |-- sessionid: string (nullable = true)\n",
      " |-- advertiserId: string (nullable = true)\n",
      " |-- partnerid: string (nullable = true)\n",
      " |-- partnercountryid: string (nullable = true)\n",
      " |-- campaignid: string (nullable = true)\n",
      " |-- campaignName: string (nullable = true)\n",
      " |-- campaignType: string (nullable = true)\n",
      " |-- campaigncountryid: string (nullable = true)\n",
      " |-- campaigncurrencyid: string (nullable = true)\n",
      " |-- audienceid: string (nullable = true)\n",
      " |-- referralCreativeId: string (nullable = true)\n",
      " |-- position: string (nullable = true)\n",
      " |-- rank: long (nullable = true)\n",
      " |-- responseId: string (nullable = true)\n",
      " |-- referraltype: string (nullable = true)\n",
      " |-- device: string (nullable = true)\n",
      " |-- age: string (nullable = true)\n",
      " |-- gender: string (nullable = true)\n",
      " |-- roktplatform: string (nullable = true)\n",
      " |-- clienttype: string (nullable = true)\n",
      " |-- bidprice: double (nullable = true)\n",
      " |-- placementid: string (nullable = true)\n",
      " |-- transactionid: string (nullable = true)\n",
      " |-- pageid: string (nullable = true)\n",
      " |-- pagetype: string (nullable = true)\n",
      " |-- istransactional: boolean (nullable = true)\n",
      " |-- cartitemid: string (nullable = true)\n",
      "\n"
     ]
    }
   ],
   "source": [
    "df.printSchema()"
   ]
  },
  {
   "cell_type": "code",
   "execution_count": null,
   "metadata": {},
   "outputs": [],
   "source": []
  }
 ],
 "metadata": {
  "kernelspec": {
   "display_name": "pyspark-sample",
   "language": "python",
   "name": "pyspark-sample"
  },
  "language_info": {
   "codemirror_mode": {
    "name": "ipython",
    "version": 3
   },
   "file_extension": ".py",
   "mimetype": "text/x-python",
   "name": "python",
   "nbconvert_exporter": "python",
   "pygments_lexer": "ipython3",
   "version": "3.7.7"
  }
 },
 "nbformat": 4,
 "nbformat_minor": 4
}
